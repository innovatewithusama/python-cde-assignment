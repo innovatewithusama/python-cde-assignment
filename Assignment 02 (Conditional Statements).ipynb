{
 "cells": [
  {
   "cell_type": "markdown",
   "metadata": {},
   "source": [
    "1) A company decided to give bonus of 5% to employee if his/her year of service is more than 5 years.\n",
    "Ask user for their salary and year of service and print the net bonus amount."
   ]
  },
  {
   "cell_type": "code",
   "execution_count": null,
   "metadata": {},
   "outputs": [],
   "source": [
    "user_salary = int(input(\"Enter your Gross Salary: \"))\n",
    "user_service = int(input(\"Enter your Years of Service: \"))\n",
    "bonus_calc = user_salary * 0.05\n",
    "if user_service > 5:\n",
    " print(f\"Your Net Bonus is: {bonus_calc}\")\n",
    "else:\n",
    " print(\"You are not eligible for Bonus\")"
   ]
  },
  {
   "cell_type": "markdown",
   "metadata": {},
   "source": [
    "\n",
    "2) Write a program to check whether a person is eligible for voting or not. (accept age from user) if age is greater than 17 eligible otherwise not eligible"
   ]
  },
  {
   "cell_type": "code",
   "execution_count": null,
   "metadata": {},
   "outputs": [],
   "source": [
    "user_age = int(input(\"Enter your age to check eligibility: \"))\n",
    "\n",
    "if user_age >= 18:\n",
    " print(\"You are eligible\")\n",
    "else:\n",
    " print(\"You are not eligible\")"
   ]
  },
  {
   "cell_type": "markdown",
   "metadata": {},
   "source": [
    "\n",
    "3) Write a program to check whether a number entered by user is even or odd."
   ]
  },
  {
   "cell_type": "code",
   "execution_count": null,
   "metadata": {},
   "outputs": [],
   "source": [
    "user_input = int(input(\"Enter a number: \"))\n",
    "\n",
    "if user_input%2 == 0:\n",
    " print(\"Number is even\")\n",
    "else:\n",
    " print(\"number is odd\")"
   ]
  },
  {
   "cell_type": "markdown",
   "metadata": {},
   "source": [
    "4) Write a program to check whether a number is divisible by 7 or not.\n",
    "Show Answer"
   ]
  },
  {
   "cell_type": "code",
   "execution_count": null,
   "metadata": {},
   "outputs": [],
   "source": [
    "user_number = int(input(\"Write a number: \"))\n",
    "remainder2 = user_number%7\n",
    "\n",
    "if remainder2 == 0:\n",
    " print(\"This number is divided by 7\")\n",
    "else:\n",
    " print(\"This number is not divided by 7\")"
   ]
  },
  {
   "cell_type": "markdown",
   "metadata": {},
   "source": [
    "5) Write a program to display \n",
    "\"Hello\" if a number entered by user is a multiple of five , otherwise print \"Bye\"."
   ]
  },
  {
   "cell_type": "code",
   "execution_count": null,
   "metadata": {},
   "outputs": [],
   "source": [
    "num = int(input(\"Enter your number: \"))\n",
    "\n",
    "if num%5 == 0:\n",
    "    print(\"Hello\")\n",
    "else:\n",
    "     print(\"Bye\")"
   ]
  },
  {
   "cell_type": "markdown",
   "metadata": {},
   "source": [
    "7) Write a program to display the last digit of a number.\n"
   ]
  },
  {
   "cell_type": "code",
   "execution_count": null,
   "metadata": {},
   "outputs": [],
   "source": [
    "user_input = int(input(\"Enter your five digit number: \"))\n",
    "print(f\"Your last digit is: {user_input%10}\")"
   ]
  },
  {
   "cell_type": "markdown",
   "metadata": {},
   "source": [
    "9) Take values of length and breadth of a rectangle from user and print if it is square or rectangle."
   ]
  },
  {
   "cell_type": "code",
   "execution_count": null,
   "metadata": {},
   "outputs": [],
   "source": [
    "length_1 = int(input(\"Enter the length: \"))\n",
    "breadth_1 = int(input(\"Enter the breadth: \"))\n",
    "\n",
    "if length_1 == breadth_1:\n",
    " print(\"It is a square\")\n",
    "else:\n",
    " print(\"It is a rectangle\")"
   ]
  },
  {
   "cell_type": "markdown",
   "metadata": {},
   "source": [
    "10) Take two int values from user and print greatest among them."
   ]
  },
  {
   "cell_type": "code",
   "execution_count": null,
   "metadata": {},
   "outputs": [],
   "source": [
    "user_intake1 = int(input(\"Enter your first number: \"))\n",
    "user_intake2 = int(input(\"Enter your second number: \"))\n",
    "\n",
    "if user_intake1 > user_intake2:\n",
    " print(\"First number is greater than second number\", user_intake1)\n",
    "else:\n",
    " print(\"Second number is greater than first number\", user_intake2)"
   ]
  },
  {
   "cell_type": "markdown",
   "metadata": {},
   "source": [
    "11) A shop will give discount of 10% if the cost of purchased quantity is more than 1000.\n",
    "Ask user for quantity\n",
    "Suppose, one unit will cost 100.\n",
    "Judge and print total cost for user."
   ]
  },
  {
   "cell_type": "code",
   "execution_count": null,
   "metadata": {},
   "outputs": [],
   "source": [
    "print(\"Our product price is 100\")\n",
    "price = 100\n",
    "discount = 10\n",
    "discount_on = 1000\n",
    "user_input = int(input(\"Please enter the total quantity of your purchase: \"))\n",
    "total_cost = user_input*price\n",
    "discounted_price = total_cost - total_cost/discount\n",
    "\n",
    "if total_cost >= discount_on:\n",
    "    print(\"Your total cost after discount is: \", int(discounted_price))\n",
    "else:\n",
    "    print(\"You are not eligible for discount\")"
   ]
  },
  {
   "cell_type": "markdown",
   "metadata": {},
   "source": [
    "12) A school has following rules for grading system:\n",
    "\n",
    "a. Below 25 - F\n",
    "\n",
    "b. 25 to 45 - E\n",
    "\n",
    "c. 45 to 50 - D\n",
    "\n",
    "d. 50 to 60 - C\n",
    "\n",
    "e. 60 to 80 - B\n",
    "\n",
    "f. Above 80 - A\n",
    "\n",
    "Ask user to enter marks and print the corresponding grade."
   ]
  },
  {
   "cell_type": "code",
   "execution_count": null,
   "metadata": {},
   "outputs": [],
   "source": [
    "total_marks = 100\n",
    "std_num = int(input(\"Please enter your marks to see your grade: \"))\n",
    "\n",
    "if std_num >= 25 and std_num <= 45:\n",
    " print(\"Your Grade is E\")\n",
    "elif std_num >= 45 and std_num <= 50:\n",
    " print(\"Your Grade is D\")\n",
    "elif std_num >= 50 and std_num <= 60:\n",
    " print(\"Your Grade is C\")\n",
    "elif std_num >= 60 and std_num <= 80:\n",
    " print(\"Your Grade is B\")\n",
    "elif std_num >= 80:\n",
    " print(\"Your Grade is A\")\n",
    "\n",
    "else:\n",
    " print(\"You are Fail\")"
   ]
  },
  {
   "cell_type": "markdown",
   "metadata": {},
   "source": [
    "14)A student will not be allowed to sit in exam if his/her attendence is less than 75%.\n",
    "\n",
    "Take following input from user\n",
    "\n",
    "Number of classes held\n",
    "\n",
    "Number of classes attended.\n",
    "\n",
    "And print\n",
    "\n",
    "percentage of class attended\n",
    "\n",
    "Is student is allowed to sit in exam or not.\n"
   ]
  },
  {
   "cell_type": "code",
   "execution_count": null,
   "metadata": {},
   "outputs": [],
   "source": [
    "attended_classes = int(input(\"Enter your number of attended classes: \"))\n",
    "held_classes = int(input(\"Enter your number of held classes: \"))\n",
    "total_classes = (attended_classes / held_classes) * 100\n",
    "\n",
    "\n",
    "if total_classes >= 75:\n",
    " print(\"You are allowed to sit in examn!\")\n",
    "else:\n",
    " print(\"You are not allowed to sit in exam!\")"
   ]
  },
  {
   "cell_type": "markdown",
   "metadata": {},
   "source": [
    "15) Modify the above question to allow student to sit if he/she has medical cause. Ask user if he/she has medical cause or not ( 'Y' or 'N' ) and print accordingly."
   ]
  },
  {
   "cell_type": "code",
   "execution_count": null,
   "metadata": {},
   "outputs": [],
   "source": [
    "attended_classes = int(input(\"Enter your number of attended classes: \"))\n",
    "held_classes = int(input(\"Enter your number of held classes: \"))\n",
    "medical_leave = input(\"Are you on medical leaves (Yes or No): \")\n",
    "total_classes = (attended_classes / held_classes) * 100\n",
    "\n",
    "\n",
    "if total_classes >= 75:\n",
    " print(\"You are allowed to sit in examn!\")\n",
    "elif medical_leave == \"Yes\":\n",
    " print(\"You are allowed to sit in examn!\")\n",
    "else:\n",
    " print(\"You are not allowed to sit in exam!\")"
   ]
  },
  {
   "cell_type": "markdown",
   "metadata": {},
   "source": [
    "16) Write a program to check if a year is leap year or not.\n",
    "\n",
    "If a year is divisible by 4 then it is leap year but if the year is century year like 2000, 1900, 2100 then it must be divisible by 400."
   ]
  },
  {
   "cell_type": "code",
   "execution_count": null,
   "metadata": {},
   "outputs": [],
   "source": [
    "year = int(input(\"Enter the year\"))\n",
    "new = 0\n",
    "\n",
    "if year == 1900 or year == 2100 or year == 2000:\n",
    "    new = year%400\n",
    "    if new == 0: print(\"it is leap year\")\n",
    "    else: print(\"it is not leap year\")\n",
    "else:\n",
    "    new = year%4\n",
    "    if new ==0: print(\"it is leap year\")\n",
    "    else:print(\"it is not leap year\")"
   ]
  },
  {
   "cell_type": "markdown",
   "metadata": {},
   "source": [
    "17) Ask user to enter age, gender ( M or F ), marital status ( Y or N ) and then using following rules print their place of service.\n",
    "\n",
    "if employee is female, then she will work only in urban areas.\n",
    "\n",
    "if employee is a male and age is in between 20 to 40 then he may work in anywhere\n",
    "\n",
    "if employee is male and age is in between 40 t0 60 then he will work in urban areas only.\n",
    "\n",
    "And any other input of age should print \"ERROR\""
   ]
  },
  {
   "cell_type": "code",
   "execution_count": null,
   "metadata": {},
   "outputs": [],
   "source": [
    "user_age = int(input(\"Enter your Age: \"))\n",
    "user_gender = input(\"Enter your Gender (male or female): \")\n",
    "user_marital_status = input(\"Enter your Marital Status (yes or no): \")\n",
    "\n",
    "if user_gender == \"female\":\n",
    " print(\"You will work in Urban Area only!\")\n",
    "elif user_gender == \"male\" and user_age >= 20 and user_age <= 40:\n",
    " print(\"You can work in Anywhere!\")\n",
    "elif user_gender == \"male\" and user_age >= 40 and user_age <= 60:\n",
    " print(\"You will work in Urban Area only!\")\n",
    "else:\n",
    " print(\"ERROR\")"
   ]
  },
  {
   "cell_type": "markdown",
   "metadata": {},
   "source": [
    "6) Write a program to calculate the electricity bill (accept number of unit from user) according to the following criteria :\n",
    "     Unit                                                     Price  \n",
    "uptp 100 units                                             no charge\n",
    "Next 200 units                                              Rs 5 per unit\n",
    "After 200 units                                             Rs 10 per unit\n",
    "(For example if input unit is 350 than total bill amount is Rs.3500\n",
    "(For example if input unit is 97 than total bill amount is Rs.0\n",
    "(For example if input unit is 150 than total bill amount is Rs.750"
   ]
  },
  {
   "cell_type": "code",
   "execution_count": null,
   "metadata": {},
   "outputs": [],
   "source": [
    "user_units = int(input(\"Enter your units25\"))\n",
    "\n",
    "if user_units >=0 and user_units <= 100:\n",
    "    print(\"Your bill is: Free\")\n",
    "elif user_units >= 101 and user_units <= 200:\n",
    "    print(f\"Your bill is: {int(user_units *5)}\")\n",
    "else:\n",
    "    print(f\"Your bill is: {int(user_units * 10)}\")"
   ]
  },
  {
   "cell_type": "markdown",
   "metadata": {},
   "source": [
    "13) Take input of age of 3 people by user and determine oldest and youngest among them."
   ]
  },
  {
   "cell_type": "code",
   "execution_count": null,
   "metadata": {},
   "outputs": [],
   "source": [
    "age1 = int(input(\"Enter your age 1: \"))\n",
    "age2 = int(input(\"Enter your age 1: \"))\n",
    "age3 = int(input(\"Enter your age 1: \"))\n",
    "\n",
    "if age1 >= age2 and age1 >= age3:\n",
    " oldest_age = age1\n",
    "elif age2 >= age1 and age2 >= age3:\n",
    " oldest_age = age2\n",
    "else:\n",
    " oldest_age = age3\n",
    "\n",
    "if age1 <= age2 and age1 <= age3:\n",
    "  youngest_age = age1\n",
    "elif age2 <= age1 and age2 <= age3:\n",
    "  youngest_age = age2\n",
    "else:\n",
    "  youngest_age = age3\n",
    "\n",
    "print(f\"oldest age is {oldest_age}\")\n",
    "print(f\"youngest age is {youngest_age}\")"
   ]
  }
 ],
 "metadata": {
  "kernelspec": {
   "display_name": "Python 3 (ipykernel)",
   "language": "python",
   "name": "python3"
  },
  "language_info": {
   "codemirror_mode": {
    "name": "ipython",
    "version": 3
   },
   "file_extension": ".py",
   "mimetype": "text/x-python",
   "name": "python",
   "nbconvert_exporter": "python",
   "pygments_lexer": "ipython3",
   "version": "3.11.5"
  }
 },
 "nbformat": 4,
 "nbformat_minor": 2
}
